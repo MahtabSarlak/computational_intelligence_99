{
  "nbformat": 4,
  "nbformat_minor": 0,
  "metadata": {
    "colab": {
      "name": "Hosh_HW2.ipynb",
      "provenance": [],
      "collapsed_sections": []
    },
    "kernelspec": {
      "name": "python3",
      "display_name": "Python 3"
    },
    "accelerator": "GPU"
  },
  "cells": [
    {
      "cell_type": "code",
      "metadata": {
        "id": "W3I0bFblH8RB",
        "outputId": "c5e253a3-d4e5-414d-acff-3eb169010c37",
        "colab": {
          "base_uri": "https://localhost:8080/",
          "height": 54
        }
      },
      "source": [
        "from google.colab import drive\n",
        " \n",
        "# Accessing My Google Drive\n",
        "drive.mount('/content/drive')"
      ],
      "execution_count": null,
      "outputs": [
        {
          "output_type": "stream",
          "text": [
            "Drive already mounted at /content/drive; to attempt to forcibly remount, call drive.mount(\"/content/drive\", force_remount=True).\n"
          ],
          "name": "stdout"
        }
      ]
    },
    {
      "cell_type": "code",
      "metadata": {
        "id": "QTj0ImB3YO4-"
      },
      "source": [
        "import numpy as np\n",
        "import cv2 as cv\n",
        "import pandas as pd\n",
        "import sklearn.model_selection\n",
        "from matplotlib import pyplot as plt\n",
        "from sklearn.preprocessing import StandardScaler\n",
        "sc_X = StandardScaler()\n",
        "\n",
        "file_name =\"drive/My Drive/Colab Notebooks/Dataset.csv\"\n",
        "dataset = pd.read_csv(file_name)\n",
        "infections = dataset['New'].values\n",
        "deaths = dataset['Deaths'].values\n",
        "x = range(len(infections))\n",
        "t = np.array(np.log(infections))\n",
        "T=t.reshape(len(infections),1)"
      ],
      "execution_count": null,
      "outputs": []
    },
    {
      "cell_type": "code",
      "metadata": {
        "id": "LFOm0OEGaVNy"
      },
      "source": [
        "def generate_polynomial_features(n_order,x_train, x_test,x_val):\n",
        "  X_train = np.array([list(map(lambda n: pow(i, n), range(0, n_order+1))) for i in x_train])\n",
        "  X_val = np.array([list(map(lambda n: pow(i, n), range(0, n_order+1))) for i in x_val])\n",
        "  X_test = np.array([list(map(lambda n: pow(i, n), range(0, n_order+1))) for i in x_test])\n",
        "  X = np.array([list(map(lambda n: pow(i, n), range(0, n_order+1))) for i in x])\n",
        "  X_train = sc_X.fit_transform(X_train)\n",
        "  X_val = sc_X.fit_transform(X_val)\n",
        "  X_test = sc_X.fit_transform(X_test)\n",
        "  X = sc_X.fit_transform(X)\n",
        "  X[:,0]  = np.ones(X.shape[0])\n",
        "  X_train[:,0]  = np.ones(X_train.shape[0])\n",
        "  X_val[:,0]  = np.ones(X_val.shape[0])\n",
        "  X_test[:,0]  = np.ones(X_test.shape[0])\n",
        "  # X_train=X_train*1./np.max(X_train, axis=0)   #normalize\n",
        "  # X_val=X_val*1./np.max(X_val, axis=0)   #normalize\n",
        "  # X_test=X_test*1./np.max(X_test, axis=0)   #normalize\n",
        "  return X_train, X_test , X_val ,X"
      ],
      "execution_count": null,
      "outputs": []
    },
    {
      "cell_type": "code",
      "metadata": {
        "id": "M9iFT7iaX6wT"
      },
      "source": [
        "def generate_N_dimention_matrix(n_order):\n",
        "  X = np.array([list(map(lambda n: pow(i, n), range(0, n_order+1))) for i in x])\n",
        "  X = sc_X.fit_transform(X)\n",
        "  X[:,0]  = np.ones(X.shape[0])\n",
        "  return X"
      ],
      "execution_count": null,
      "outputs": []
    },
    {
      "cell_type": "code",
      "metadata": {
        "id": "Q7o7Js7KX7OT"
      },
      "source": [
        "def split_data(X , T):\n",
        "  # train 0.6 , test = 0.2 , val = 0.2\n",
        "  X_train, X_test, y_train, y_test  = sklearn.model_selection.train_test_split(X, T, test_size=0.2, random_state=1)\n",
        "  X_train, X_val, y_train, y_val = sklearn.model_selection.train_test_split(X_train, y_train, test_size=0.25, random_state=1) # 0.25 x 0.8 = 0.2\n",
        "  plt.plot(X_train, y_train, 'o', color='green')\n",
        "  plt.plot(X_val, y_val, 'o', color='black')\n",
        "  plt.plot(X_test, y_test, 'o', color='red')\n",
        "  return X_train, X_test, y_train, y_test , X_val, y_val"
      ],
      "execution_count": null,
      "outputs": []
    },
    {
      "cell_type": "code",
      "metadata": {
        "id": "-FiKYJbvaap9"
      },
      "source": [
        "def update(x,t,theta,alpha):\n",
        "  N= len(t)\n",
        "  y=np.dot(x,theta)\n",
        "  theta=theta - (alpha/(float(N)))*(x.T.dot((y-t)))\n",
        "  return theta"
      ],
      "execution_count": null,
      "outputs": []
    },
    {
      "cell_type": "code",
      "metadata": {
        "id": "ojHNJp_9bfps"
      },
      "source": [
        "def train(x,t,theta,alpha,epochs):\n",
        "  for e in range(epochs):\n",
        "    theta = update(x,t,theta,alpha)\n",
        "  return theta "
      ],
      "execution_count": null,
      "outputs": []
    },
    {
      "cell_type": "code",
      "metadata": {
        "id": "ABO5nJdLbhyi"
      },
      "source": [
        " def calc_cost(x,t,theta):\n",
        "  N = len(t)\n",
        "  y=np.dot(x,theta)\n",
        "  err = np.sum(np.square(y-t))/(2*N)\n",
        "  return err"
      ],
      "execution_count": null,
      "outputs": []
    },
    {
      "cell_type": "code",
      "metadata": {
        "id": "04jnTqCRbjVa",
        "outputId": "84d3bba1-319c-4435-921a-a71a67afb06f",
        "colab": {
          "base_uri": "https://localhost:8080/",
          "height": 1000
        }
      },
      "source": [
        "alpha = 0.0001\n",
        "epochs = 1000000\n",
        "n_order = 16\n",
        "N= len(t)\n",
        "results_theta = {}\n",
        "results_train_cost={}\n",
        "results_test_cost={}\n",
        "results_validation_cost={}\n",
        "x_train, x_test, y_train, y_test , x_val, y_val = split_data(x,T)\n",
        "for n in range(1,n_order):\n",
        "  theta = np.array([[0] for row in range(n+1)])\n",
        "  X_train, X_test, X_val , X = generate_polynomial_features(n,x_train, x_test,x_val)\n",
        "  theta = train(X_train , y_train,theta , alpha , epochs*n)\n",
        "  results_theta[n-1]=theta\n",
        "  results_train_cost[n-1] = calc_cost(X_train,y_train,theta)\n",
        "  results_validation_cost[n-1] = calc_cost(X_val, y_val,theta)\n",
        "  results_test_cost[n-1] = calc_cost(X_test, y_test,theta)\n",
        "  # y = np.dot(X,theta)\n",
        "  # plt.plot( np.array(range(N)), y)\n",
        "  print(n,\" : \",\"\\nTraining data cost : \",results_train_cost[n-1] , \"\\nValidation data cost : \",results_validation_cost[n-1], \"\\nTest data cost : \",results_test_cost[n-1])"
      ],
      "execution_count": null,
      "outputs": [
        {
          "output_type": "stream",
          "text": [
            "1  :  \n",
            "Training data cost :  0.3089279005595572 \n",
            "Validation data cost :  0.4696557725294205 \n",
            "Test data cost :  0.6439347819607493\n",
            "2  :  \n",
            "Training data cost :  0.2296948481841254 \n",
            "Validation data cost :  0.34420774742272137 \n",
            "Test data cost :  0.47100365337348765\n",
            "3  :  \n",
            "Training data cost :  0.20701539564787586 \n",
            "Validation data cost :  0.32196013728284745 \n",
            "Test data cost :  0.4431608162696787\n",
            "4  :  \n",
            "Training data cost :  0.17784182690460146 \n",
            "Validation data cost :  0.28481307407242135 \n",
            "Test data cost :  0.3825120689060992\n",
            "5  :  \n",
            "Training data cost :  0.1807651411467704 \n",
            "Validation data cost :  0.28808397763690524 \n",
            "Test data cost :  0.3801624931244777\n",
            "6  :  \n",
            "Training data cost :  0.18161464054581533 \n",
            "Validation data cost :  0.28983832206661325 \n",
            "Test data cost :  0.38440584132445244\n",
            "7  :  \n",
            "Training data cost :  0.17812467825788933 \n",
            "Validation data cost :  0.2843604323691885 \n",
            "Test data cost :  0.3778731516283038\n",
            "8  :  \n",
            "Training data cost :  0.17464681228492387 \n",
            "Validation data cost :  0.2779892689794433 \n",
            "Test data cost :  0.36766075911285034\n",
            "9  :  \n",
            "Training data cost :  0.17328750185905703 \n",
            "Validation data cost :  0.27465829958598403 \n",
            "Test data cost :  0.36044025992708645\n",
            "10  :  \n",
            "Training data cost :  0.1728922660057131 \n",
            "Validation data cost :  0.27337730991006415 \n",
            "Test data cost :  0.3571088746659779\n",
            "11  :  \n",
            "Training data cost :  0.17190936498907644 \n",
            "Validation data cost :  0.2718535342332632 \n",
            "Test data cost :  0.3551145769542083\n",
            "12  :  \n",
            "Training data cost :  0.17004097296618342 \n",
            "Validation data cost :  0.2691882474698204 \n",
            "Test data cost :  0.3522076478421581\n",
            "13  :  \n",
            "Training data cost :  0.1677421588475313 \n",
            "Validation data cost :  0.2656822899222389 \n",
            "Test data cost :  0.3477963064224244\n",
            "14  :  \n",
            "Training data cost :  0.16556458349193331 \n",
            "Validation data cost :  0.26204614901363976 \n",
            "Test data cost :  0.3424606362363009\n",
            "15  :  \n",
            "Training data cost :  0.16387350899011593 \n",
            "Validation data cost :  0.25889631221687454 \n",
            "Test data cost :  0.3370988366683944\n"
          ],
          "name": "stdout"
        },
        {
          "output_type": "display_data",
          "data": {
            "image/png": "[encoded data removed]",
            "text/plain": [
              "<Figure size 432x288 with 1 Axes>"
            ]
          },
          "metadata": {
            "tags": [],
            "needs_background": "light"
          }
        }
      ]
    },
    {
      "cell_type": "code",
      "metadata": {
        "id": "OyfN8C0i5TDd"
      },
      "source": [
        "def show_diagram(degree):\n",
        "    X = generate_N_dimention_matrix(degree)\n",
        "    y = np.dot(X,results_theta[degree-1])\n",
        "    plt.plot(x,y)"
      ],
      "execution_count": null,
      "outputs": []
    },
    {
      "cell_type": "code",
      "metadata": {
        "id": "QlIVTyQqdfDk",
        "outputId": "0990aaf9-bb08-42fa-b0df-dd347014bd46",
        "colab": {
          "base_uri": "https://localhost:8080/",
          "height": 265
        }
      },
      "source": [
        "plt.plot(x,t,\"o\",color = \"black\")\n",
        "for n in range(1,n_order):\n",
        "    show_diagram(n)"
      ],
      "execution_count": null,
      "outputs": [
        {
          "output_type": "display_data",
          "data": {
            "image/png": "[encoded data removed]",
            "text/plain": [
              "<Figure size 432x288 with 1 Axes>"
            ]
          },
          "metadata": {
            "tags": [],
            "needs_background": "light"
          }
        }
      ]
    },
    {
      "cell_type": "code",
      "metadata": {
        "id": "S1feoyCTi57f",
        "outputId": "afd0f412-e9b6-43ed-a45a-f7a9523cf227",
        "colab": {
          "base_uri": "https://localhost:8080/",
          "height": 617
        }
      },
      "source": [
        "result_degree = min(results_validation_cost, key=results_validation_cost.get)\n",
        "result_theta = results_theta[result_degree]\n",
        "result_train_cost = results_train_cost[result_degree]\n",
        "result_validation_cost = results_validation_cost[result_degree]\n",
        "result_test_cost = results_test_cost[result_degree]\n",
        "print(\"Result degree : \",result_degree+1,\"\\nResult Training data cost : \",result_train_cost , \"\\nResult Validation data cost : \",result_validation_cost, \"\\nResult Test data cost : \",result_test_cost,\"\\nResult theta : \",result_theta)\n",
        "plt.plot(x,t,\"o\",color = \"black\")\n",
        "show_diagram(result_degree)"
      ],
      "execution_count": null,
      "outputs": [
        {
          "output_type": "stream",
          "text": [
            "Result degree :  15 \n",
            "Result Training data cost :  0.16387350899011593 \n",
            "Result Validation data cost :  0.25889631221687454 \n",
            "Result Test data cost :  0.3370988366683944 \n",
            "Result theta :  [[ 7.40384419]\n",
            " [ 4.48495452]\n",
            " [-6.29720003]\n",
            " [-0.45873224]\n",
            " [ 1.85691458]\n",
            " [ 1.73401368]\n",
            " [ 0.88021196]\n",
            " [ 0.06514677]\n",
            " [-0.47504199]\n",
            " [-0.72222742]\n",
            " [-0.73025159]\n",
            " [-0.56687285]\n",
            " [-0.29337433]\n",
            " [ 0.04094113]\n",
            " [ 0.39877894]\n",
            " [ 0.75313247]]\n"
          ],
          "name": "stdout"
        },
        {
          "output_type": "display_data",
          "data": {
            "image/png": "[encoded data removed]",
            "text/plain": [
              "<Figure size 432x288 with 1 Axes>"
            ]
          },
          "metadata": {
            "tags": [],
            "needs_background": "light"
          }
        }
      ]
    },
    {
      "cell_type": "markdown",
      "metadata": {
        "id": "ySu6Qn8ABLsV"
      },
      "source": [
        "<p dir=\"rtl\">\n",
        "برای پیدا کردن theta مطلوب که مدلی مناسب از دیتا ما را ایجاد کند بر روی train-set از الگوریتم gradient descent استفاده می کنیم و سعی می کنیم cost را در هر epoch کم کنیم از آنجایی که نمی خواهیم دچار overfit نوشیم از validation-set استفاده می کنیم و cost را برای هر درجه محاسبه می کنیم و  بین cost های بدست آمده minimum را انتخاب میکنیم طبق مدل train شده درجه ۱۰ بهترین cost را در هر دو train-set  و validation-set دارد و در آخر هم مقدار cost را برای درجه ۱۰ روی test-set محاسبه می کنیم و نمایش می دهیم .\n",
        "</p>"
      ]
    },
    {
      "cell_type": "code",
      "metadata": {
        "id": "utZClBUiBIx6"
      },
      "source": [
        ""
      ],
      "execution_count": null,
      "outputs": []
    },
    {
      "cell_type": "code",
      "metadata": {
        "id": "mgEsB1NHA8VS"
      },
      "source": [
        ""
      ],
      "execution_count": null,
      "outputs": []
    },
    {
      "cell_type": "code",
      "metadata": {
        "id": "ZkZ5_enr549k"
      },
      "source": [
        ""
      ],
      "execution_count": null,
      "outputs": []
    }
  ]
}