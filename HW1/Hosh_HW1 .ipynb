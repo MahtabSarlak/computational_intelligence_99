{
  "nbformat": 4,
  "nbformat_minor": 0,
  "metadata": {
    "colab": {
      "name": "Hosh_HW1.ipynb",
      "provenance": [],
      "collapsed_sections": []
    },
    "kernelspec": {
      "name": "python3",
      "display_name": "Python 3"
    },
    "accelerator": "GPU"
  },
  "cells": [
    {
      "cell_type": "code",
      "metadata": {
        "id": "jESU3CZFN2GN",
        "outputId": "7692680f-c794-49da-9d2f-b02e332b9312",
        "colab": {
          "base_uri": "https://localhost:8080/",
          "height": 34
        }
      },
      "source": [
        "from google.colab import drive\n",
        "\n",
        "# Accessing My Google Drive\n",
        "drive.mount('/content/drive')"
      ],
      "execution_count": null,
      "outputs": [
        {
          "output_type": "stream",
          "text": [
            "Mounted at /content/drive\n"
          ],
          "name": "stdout"
        }
      ]
    },
    {
      "cell_type": "code",
      "metadata": {
        "id": "tkXrSD_cPHCq"
      },
      "source": [
        "import numpy as np\n",
        "import cv2 as cv\n",
        "import pandas as pd\n",
        "import sklearn.model_selection\n",
        "from matplotlib import pyplot as plt\n",
        "file_name =\"drive/My Drive/Colab Notebooks/Dataset.csv\"\n",
        "dataset = pd.read_csv(file_name).astype('int64')\n",
        "infections = dataset['New'].tolist()\n",
        "deaths = dataset['Deaths'].tolist()"
      ],
      "execution_count": null,
      "outputs": []
    },
    {
      "cell_type": "code",
      "metadata": {
        "id": "3aYGma6BanhL",
        "outputId": "b1959f45-6e37-459f-b7d1-5ab014d167f7",
        "colab": {
          "base_uri": "https://localhost:8080/",
          "height": 282
        }
      },
      "source": [
        "x = range(len(infections))\n",
        "X = np.c_[np.ones((len(x),1)),x]\n",
        "t = np.log(infections)\n",
        "T=t.reshape(len(infections),1)\n",
        "X_train, X_test, y_train, y_test  = sklearn.model_selection.train_test_split(X, T, test_size=0.2, random_state=1)\n",
        "X_train, X_val, y_train, y_val = sklearn.model_selection.train_test_split(X_train, y_train, test_size=0.25, random_state=1) # 0.25 x 0.8 = 0.2\n",
        "plt.plot(x,t,'o',color='blue')"
      ],
      "execution_count": null,
      "outputs": [
        {
          "output_type": "execute_result",
          "data": {
            "text/plain": [
              "[<matplotlib.lines.Line2D at 0x7ff222c4aef0>]"
            ]
          },
          "metadata": {
            "tags": []
          },
          "execution_count": 22
        },
        {
          "output_type": "display_data",
          "data": {
            "image/png": "[encoded data removed]",
            "text/plain": [
              "<Figure size 432x288 with 1 Axes>"
            ]
          },
          "metadata": {
            "tags": [],
            "needs_background": "light"
          }
        }
      ]
    },
    {
      "cell_type": "code",
      "metadata": {
        "id": "g5xJJKZUDFNM"
      },
      "source": [
        "def update(x,t,theta,alpha):\n",
        "  N= len(t)\n",
        "  y=np.dot(x,theta)\n",
        "  theta=theta - (alpha/(float(N)))*(x.T.dot((y-t)))\n",
        "  return theta"
      ],
      "execution_count": null,
      "outputs": []
    },
    {
      "cell_type": "code",
      "metadata": {
        "id": "78w1O1Z7-O8B"
      },
      "source": [
        "def train(x,t,theta,alpha,epochs):\n",
        "  for e in range(epochs):\n",
        "    theta = update(x,t,theta,alpha)\n",
        "    if e% 10000 ==0:\n",
        "      print(\"epoch: \", e, \" loss: \", calc_cost(x,t,theta))\n",
        "  return theta"
      ],
      "execution_count": null,
      "outputs": []
    },
    {
      "cell_type": "code",
      "metadata": {
        "id": "YGZR4DtCPyXv"
      },
      "source": [
        "def calc_cost(x,t,theta):\n",
        "  N = len(t)\n",
        "  y=x.dot(theta)\n",
        "  err = np.sum(np.square(y-t))/(float(2*N))\n",
        "  return err"
      ],
      "execution_count": null,
      "outputs": []
    },
    {
      "cell_type": "code",
      "metadata": {
        "id": "lbjy4LMRQccy",
        "outputId": "0658471b-d2f7-449e-f856-272410fe7520",
        "colab": {
          "base_uri": "https://localhost:8080/",
          "height": 263
        }
      },
      "source": [
        "theta = np.array([[0],[0]])\n",
        "alpha = 0.0001\n",
        "epochs = 100000\n",
        "theta = train(X_train , y_train,theta , alpha , epochs)\n",
        "training_data_cost = calc_cost(X_train , y_train,theta)\n",
        "validating_data_cost = calc_cost(X_val, y_val,theta)\n",
        "testing_data_cost = calc_cost(X_test, y_test,theta)\n",
        "print(\"b : \",theta[0][0],\" w: \",theta[1][0])\n",
        "print(\"Training data cost : \",training_data_cost , \"\\nValidation data cost : \",validating_data_cost, \"\\nTest data cost : \",testing_data_cost)"
      ],
      "execution_count": null,
      "outputs": [
        {
          "output_type": "stream",
          "text": [
            "epoch:  0  loss:  17.127835498348887\n",
            "epoch:  10000  loss:  3.4882664376223995\n",
            "epoch:  20000  loss:  2.2210040777240954\n",
            "epoch:  30000  loss:  1.4588637330166043\n",
            "epoch:  40000  loss:  1.0005072605040957\n",
            "epoch:  50000  loss:  0.7248485089985359\n",
            "epoch:  60000  loss:  0.5590654300227325\n",
            "epoch:  70000  loss:  0.4593623401531401\n",
            "epoch:  80000  loss:  0.39940021258887304\n",
            "epoch:  90000  loss:  0.36333857451189916\n",
            "b :  5.941786251071168  w:  0.011772347093689224\n",
            "Training data cost :  0.3416525200039076 \n",
            "Validation data cost :  0.46958583977885615 \n",
            "Test data cost :  0.6598014394985087\n"
          ],
          "name": "stdout"
        }
      ]
    },
    {
      "cell_type": "code",
      "metadata": {
        "id": "uG2Q89I-QxSF",
        "outputId": "7963e2f7-9ccf-480d-816f-217d7f67e9d0",
        "colab": {
          "base_uri": "https://localhost:8080/",
          "height": 282
        }
      },
      "source": [
        "plt.plot(x,t,\"o\",color = \"black\")\n",
        "yy = np.dot(theta[1][0],x)+theta[0][0]\n",
        "plt.plot(x,yy)"
      ],
      "execution_count": null,
      "outputs": [
        {
          "output_type": "execute_result",
          "data": {
            "text/plain": [
              "[<matplotlib.lines.Line2D at 0x7ff222c34da0>]"
            ]
          },
          "metadata": {
            "tags": []
          },
          "execution_count": 27
        },
        {
          "output_type": "display_data",
          "data": {
            "image/png": "[encoded data removed]",
            "text/plain": [
              "<Figure size 432x288 with 1 Axes>"
            ]
          },
          "metadata": {
            "tags": [],
            "needs_background": "light"
          }
        }
      ]
    },
    {
      "cell_type": "code",
      "metadata": {
        "id": "LiCr5lCsYAok"
      },
      "source": [
        ""
      ],
      "execution_count": null,
      "outputs": []
    }
  ]
}