{
  "nbformat": 4,
  "nbformat_minor": 0,
  "metadata": {
    "colab": {
      "name": "CI_n4_MahtabSarlak_96243032.ipynb",
      "provenance": [],
      "collapsed_sections": [],
      "machine_shape": "hm"
    },
    "kernelspec": {
      "name": "python3",
      "display_name": "Python 3"
    },
    "accelerator": "GPU"
  },
  "cells": [
    {
      "cell_type": "code",
      "metadata": {
        "colab": {
          "base_uri": "https://localhost:8080/"
        },
        "id": "LJ45gs3xOAi0",
        "outputId": "2e742e2d-1d8d-4885-d32c-8eb005a51c23"
      },
      "source": [
        "from google.colab import drive\r\n",
        " \r\n",
        "# Accessing My Google Drive\r\n",
        "drive.mount('/content/drive')"
      ],
      "execution_count": null,
      "outputs": [
        {
          "output_type": "stream",
          "text": [
            "Mounted at /content/drive\n"
          ],
          "name": "stdout"
        }
      ]
    },
    {
      "cell_type": "code",
      "metadata": {
        "colab": {
          "base_uri": "https://localhost:8080/"
        },
        "id": "_7S-vuO3OC2T",
        "outputId": "b16961dd-f4fa-4657-e651-8c49cabc111a"
      },
      "source": [
        "!wget http://vision.stanford.edu/aditya86/ImageNetDogs/images.tar\r\n",
        "!tar -xf images.tar"
      ],
      "execution_count": null,
      "outputs": [
        {
          "output_type": "stream",
          "text": [
            "--2020-12-11 14:52:38--  http://vision.stanford.edu/aditya86/ImageNetDogs/images.tar\n",
            "Resolving vision.stanford.edu (vision.stanford.edu)... 171.64.68.10\n",
            "Connecting to vision.stanford.edu (vision.stanford.edu)|171.64.68.10|:80... connected.\n",
            "HTTP request sent, awaiting response... 200 OK\n",
            "Length: 793579520 (757M) [application/x-tar]\n",
            "Saving to: ‘images.tar’\n",
            "\n",
            "images.tar          100%[===================>] 756.82M  38.0MB/s    in 22s     \n",
            "\n",
            "2020-12-11 14:53:00 (34.7 MB/s) - ‘images.tar’ saved [793579520/793579520]\n",
            "\n",
            "--2020-12-11 14:53:00--  http://files.heuritech.com/weights/alexnet_weights.h5\n",
            "Resolving files.heuritech.com (files.heuritech.com)... 188.165.215.225\n",
            "Connecting to files.heuritech.com (files.heuritech.com)|188.165.215.225|:80... connected.\n",
            "HTTP request sent, awaiting response... 200 OK\n",
            "Length: 243904576 (233M)\n",
            "Saving to: ‘alexnet_weights.h5’\n",
            "\n",
            "alexnet_weights.h5  100%[===================>] 232.61M  5.25MB/s    in 54s     \n",
            "\n",
            "2020-12-11 14:53:55 (4.28 MB/s) - ‘alexnet_weights.h5’ saved [243904576/243904576]\n",
            "\n"
          ],
          "name": "stdout"
        }
      ]
    },
    {
      "cell_type": "code",
      "metadata": {
        "colab": {
          "base_uri": "https://localhost:8080/"
        },
        "id": "UeGUokZgOG3h",
        "outputId": "53424394-b280-4a8f-d48e-1450550ea697"
      },
      "source": [
        "from tensorflow import keras\r\n",
        "import tensorflow as tf\r\n",
        "assert tf.__version__.startswith('2')\r\n",
        "tf.random.set_seed(1234)\r\n",
        "!pip3 install tensorflow-datasets==1.2.0\r\n",
        "import tensorflow_datasets as tfds\r\n",
        "import tarfile\r\n",
        "import os\r\n",
        "import cv2\r\n",
        "import numpy as np\r\n",
        "from PIL import Image\r\n",
        "import tensorflow as tf\r\n",
        "import matplotlib.pyplot as plt\r\n",
        "from sklearn.model_selection import train_test_split\r\n",
        "from keras.models import Sequential\r\n",
        "from keras.utils.vis_utils import plot_model\r\n",
        "from keras.layers import Conv2D, MaxPooling2D, Dense, Flatten, Dropout\r\n",
        "from keras.layers.normalization import BatchNormalization\r\n",
        "from keras.preprocessing.image import ImageDataGenerator\r\n",
        "from tensorflow.keras.layers.experimental.preprocessing import Normalization\r\n",
        "from tensorflow.keras.callbacks import TensorBoard, ModelCheckpoint\r\n",
        "%matplotlib inline\r\n",
        "%load_ext tensorboard"
      ],
      "execution_count": null,
      "outputs": [
        {
          "output_type": "stream",
          "text": [
            "Collecting tensorflow-datasets==1.2.0\n",
            "\u001b[?25l  Downloading https://files.pythonhosted.org/packages/6c/34/ff424223ed4331006aaa929efc8360b6459d427063dc59fc7b75d7e4bab3/tensorflow_datasets-1.2.0-py3-none-any.whl (2.3MB)\n",
            "\u001b[K     |████████████████████████████████| 2.3MB 5.5MB/s \n",
            "\u001b[?25hRequirement already satisfied: attrs in /usr/local/lib/python3.6/dist-packages (from tensorflow-datasets==1.2.0) (20.3.0)\n",
            "Requirement already satisfied: tensorflow-metadata in /usr/local/lib/python3.6/dist-packages (from tensorflow-datasets==1.2.0) (0.25.0)\n",
            "Requirement already satisfied: absl-py in /usr/local/lib/python3.6/dist-packages (from tensorflow-datasets==1.2.0) (0.10.0)\n",
            "Requirement already satisfied: protobuf>=3.6.1 in /usr/local/lib/python3.6/dist-packages (from tensorflow-datasets==1.2.0) (3.12.4)\n",
            "Requirement already satisfied: tqdm in /usr/local/lib/python3.6/dist-packages (from tensorflow-datasets==1.2.0) (4.41.1)\n",
            "Requirement already satisfied: promise in /usr/local/lib/python3.6/dist-packages (from tensorflow-datasets==1.2.0) (2.3)\n",
            "Requirement already satisfied: requests>=2.19.0 in /usr/local/lib/python3.6/dist-packages (from tensorflow-datasets==1.2.0) (2.23.0)\n",
            "Requirement already satisfied: six in /usr/local/lib/python3.6/dist-packages (from tensorflow-datasets==1.2.0) (1.15.0)\n",
            "Requirement already satisfied: wrapt in /usr/local/lib/python3.6/dist-packages (from tensorflow-datasets==1.2.0) (1.12.1)\n",
            "Requirement already satisfied: termcolor in /usr/local/lib/python3.6/dist-packages (from tensorflow-datasets==1.2.0) (1.1.0)\n",
            "Requirement already satisfied: dill in /usr/local/lib/python3.6/dist-packages (from tensorflow-datasets==1.2.0) (0.3.3)\n",
            "Requirement already satisfied: numpy in /usr/local/lib/python3.6/dist-packages (from tensorflow-datasets==1.2.0) (1.18.5)\n",
            "Requirement already satisfied: future in /usr/local/lib/python3.6/dist-packages (from tensorflow-datasets==1.2.0) (0.16.0)\n",
            "Requirement already satisfied: psutil in /usr/local/lib/python3.6/dist-packages (from tensorflow-datasets==1.2.0) (5.4.8)\n",
            "Requirement already satisfied: googleapis-common-protos<2,>=1.52.0 in /usr/local/lib/python3.6/dist-packages (from tensorflow-metadata->tensorflow-datasets==1.2.0) (1.52.0)\n",
            "Requirement already satisfied: setuptools in /usr/local/lib/python3.6/dist-packages (from protobuf>=3.6.1->tensorflow-datasets==1.2.0) (50.3.2)\n",
            "Requirement already satisfied: urllib3!=1.25.0,!=1.25.1,<1.26,>=1.21.1 in /usr/local/lib/python3.6/dist-packages (from requests>=2.19.0->tensorflow-datasets==1.2.0) (1.24.3)\n",
            "Requirement already satisfied: certifi>=2017.4.17 in /usr/local/lib/python3.6/dist-packages (from requests>=2.19.0->tensorflow-datasets==1.2.0) (2020.12.5)\n",
            "Requirement already satisfied: idna<3,>=2.5 in /usr/local/lib/python3.6/dist-packages (from requests>=2.19.0->tensorflow-datasets==1.2.0) (2.10)\n",
            "Requirement already satisfied: chardet<4,>=3.0.2 in /usr/local/lib/python3.6/dist-packages (from requests>=2.19.0->tensorflow-datasets==1.2.0) (3.0.4)\n",
            "Installing collected packages: tensorflow-datasets\n",
            "  Found existing installation: tensorflow-datasets 4.0.1\n",
            "    Uninstalling tensorflow-datasets-4.0.1:\n",
            "      Successfully uninstalled tensorflow-datasets-4.0.1\n",
            "Successfully installed tensorflow-datasets-1.2.0\n"
          ],
          "name": "stdout"
        }
      ]
    },
    {
      "cell_type": "markdown",
      "metadata": {
        "id": "lV3c1cZWP2Zw"
      },
      "source": [
        "# **Pre Process**"
      ]
    },
    {
      "cell_type": "code",
      "metadata": {
        "id": "PiwhapyzOJTn"
      },
      "source": [
        "address = \"Images\"\r\n",
        "epochs = 50\r\n",
        "input_size = (227, 227, 3)\r\n",
        "random_state = 42\r\n",
        "num_img = 20580\r\n",
        "classes = 120\r\n",
        "n_batch = 64\r\n",
        "abspath = '/content/drive/My Drive/Colab Notebooks/HW4_AI/'"
      ],
      "execution_count": null,
      "outputs": []
    },
    {
      "cell_type": "code",
      "metadata": {
        "id": "PY-j8x4cOLzl"
      },
      "source": [
        "# Make directory for saving models\r\n",
        "directory = os.path.dirname(abspath + 'model/')\r\n",
        "if not os.path.exists(directory):\r\n",
        "    os.makedirs(directory)"
      ],
      "execution_count": null,
      "outputs": []
    },
    {
      "cell_type": "code",
      "metadata": {
        "id": "1nKCwrL2PWg4"
      },
      "source": [
        "def preprocess(data, label):\r\n",
        "    data_preprocessed = keras.applications.xception.preprocess_input(data)\r\n",
        "    return data_preprocessed, label"
      ],
      "execution_count": null,
      "outputs": []
    },
    {
      "cell_type": "code",
      "metadata": {
        "colab": {
          "base_uri": "https://localhost:8080/"
        },
        "id": "rELkP8ZXQvL8",
        "outputId": "4d80cb4d-c9c7-41fd-eaec-5995eba0455d"
      },
      "source": [
        "AUTOTUNE = tf.data.experimental.AUTOTUNE\r\n",
        "train_generator = tf.keras.preprocessing.image_dataset_from_directory(\r\n",
        "    address,\r\n",
        "    validation_split=0.2,\r\n",
        "    seed=123,\r\n",
        "    shuffle=True,\r\n",
        "    image_size=(input_size[0], input_size[1]),\r\n",
        "    batch_size=n_batch,\r\n",
        "    label_mode='categorical',\r\n",
        "    subset='training') # set as training data\r\n",
        "\r\n",
        "validation_generator = tf.keras.preprocessing.image_dataset_from_directory(\r\n",
        "    address, # same directory as training data\r\n",
        "    image_size=(input_size[0], input_size[1]),\r\n",
        "    batch_size=n_batch,\r\n",
        "    seed=123,\r\n",
        "    shuffle=True,\r\n",
        "    validation_split=0.2,\r\n",
        "    label_mode='categorical',\r\n",
        "    subset='validation') # set as validation data\r\n",
        "train_generator = train_generator.map(preprocess)\r\n",
        "validation_generator = validation_generator.map(preprocess)\r\n",
        "train_generator = train_generator.cache().shuffle(21000).prefetch(buffer_size=AUTOTUNE)\r\n",
        "validation_generator = validation_generator.cache().prefetch(buffer_size=AUTOTUNE)"
      ],
      "execution_count": null,
      "outputs": [
        {
          "output_type": "stream",
          "text": [
            "Found 20580 files belonging to 120 classes.\n",
            "Using 16464 files for training.\n",
            "Found 20580 files belonging to 120 classes.\n",
            "Using 4116 files for validation.\n"
          ],
          "name": "stdout"
        }
      ]
    },
    {
      "cell_type": "markdown",
      "metadata": {
        "id": "UudKV97vTFBK"
      },
      "source": [
        "# **Proposed models**"
      ]
    },
    {
      "cell_type": "markdown",
      "metadata": {
        "id": "CwWeFv_3Ry-9"
      },
      "source": [
        "Two models are implemented for breed classification. First one is AlexNet that is trained and implemented from scratch, and second one is Xception that is implemented and trained using pre_trained weights. Therefore accuracy of Xception is more than AlexNet by a large margin. "
      ]
    },
    {
      "cell_type": "markdown",
      "metadata": {
        "id": "AHbP1ud-Q5Vk"
      },
      "source": [
        "# **AlexNet**"
      ]
    },
    {
      "cell_type": "code",
      "metadata": {
        "id": "xGYO86D2Q9MD"
      },
      "source": [
        "from tensorflow.keras import layers\r\n",
        "from keras.regularizers import l2\r\n",
        "def model_AlexNet():\r\n",
        "    np.random.seed(1000)\r\n",
        "    \r\n",
        "    model = Sequential()\r\n",
        "    # 1 conv layer\r\n",
        "    model.add(Conv2D(filters=96, kernel_size=(11, 11), strides=(4, 4), padding=\"valid\", activation=\"relu\",\r\n",
        "                     input_shape=input_size))\r\n",
        "    # 1 max pool layer\r\n",
        "    model.add(MaxPooling2D(pool_size=(3, 3), strides=(2, 2)))\r\n",
        "    model.add(BatchNormalization())\r\n",
        "    # 2 conv layer\r\n",
        "    model.add(Conv2D(filters=256, kernel_size=(5, 5), strides=(1, 1), padding=\"valid\", activation=\"relu\"))\r\n",
        "    # 2 max pool layer\r\n",
        "    model.add(MaxPooling2D(pool_size=(3, 3), strides=(2, 2)))\r\n",
        "    model.add(BatchNormalization())\r\n",
        "    # 3 conv layer\r\n",
        "    model.add(Conv2D(filters=384, kernel_size=(3, 3), strides=(1, 1), padding=\"valid\", activation=\"relu\"))\r\n",
        "    # 4 conv layer\r\n",
        "    model.add(Conv2D(filters=384, kernel_size=(3, 3), strides=(1, 1), padding=\"valid\", activation=\"relu\"))\r\n",
        "    # 5 conv layer\r\n",
        "    model.add(Conv2D(filters=256, kernel_size=(3, 3), strides=(1, 1), padding=\"valid\", activation=\"relu\"))\r\n",
        "    # 3 max pool layer\r\n",
        "    model.add(MaxPooling2D(pool_size=(3, 3), strides=(2, 2)))\r\n",
        "    model.add(BatchNormalization())\r\n",
        "    model.add(Flatten())\r\n",
        "    # 1 dense layer\r\n",
        "    model.add(Dense(4096, input_shape=input_size, activation=\"relu\"))\r\n",
        "    model.add(Dropout(0.5))\r\n",
        "    model.add(BatchNormalization())\r\n",
        "    # 2 dense layer\r\n",
        "    model.add(Dense(4096, activation=\"relu\"))\r\n",
        "    model.add(Dropout(0.5))\r\n",
        "    model.add(BatchNormalization())\r\n",
        "    # 3 dense layer\r\n",
        "    model.add(Dense(1000, activation=\"relu\",kernel_regularizer=l2(1e-3)))\r\n",
        "    model.add(Dropout(0.5))\r\n",
        "    model.add(BatchNormalization())\r\n",
        "    # output layer\r\n",
        "    model.add(Dense(classes, activation=\"softmax\"))\r\n",
        "\r\n",
        "    opt = tf.keras.optimizers.Adam(lr=0.001, beta_1=0.9, beta_2=0.999, amsgrad=False)\r\n",
        "    loss = keras.losses.categorical_crossentropy\r\n",
        "    model.compile(loss = keras.losses.categorical_crossentropy, optimizer=opt, metrics=['accuracy'])\r\n",
        "    model.summary()\r\n",
        "    plot_model(model, to_file='alexNet_model.png', show_shapes=True, show_layer_names=True)\r\n",
        "    return model"
      ],
      "execution_count": null,
      "outputs": []
    },
    {
      "cell_type": "code",
      "metadata": {
        "id": "M3AHU0PbRAQE"
      },
      "source": [
        "checkpoint_cb = keras.callbacks.ModelCheckpoint(abspath + '/model/alexNet_model.h5',save_best_only=True)\r\n",
        "early_stopping_cb = keras.callbacks.EarlyStopping(patience=20,restore_best_weights=True)"
      ],
      "execution_count": null,
      "outputs": []
    },
    {
      "cell_type": "code",
      "metadata": {
        "colab": {
          "base_uri": "https://localhost:8080/"
        },
        "id": "P8QfRKzfRGYC",
        "outputId": "b1791c12-ade5-4df0-e4c6-ab95c1bf5cf4"
      },
      "source": [
        "model = model_AlexNet()"
      ],
      "execution_count": null,
      "outputs": [
        {
          "output_type": "stream",
          "text": [
            "Model: \"sequential_21\"\n",
            "_________________________________________________________________\n",
            "Layer (type)                 Output Shape              Param #   \n",
            "=================================================================\n",
            "conv2d_156 (Conv2D)          (None, 55, 55, 96)        34944     \n",
            "_________________________________________________________________\n",
            "max_pooling2d_97 (MaxPooling (None, 27, 27, 96)        0         \n",
            "_________________________________________________________________\n",
            "batch_normalization_465 (Bat (None, 27, 27, 96)        384       \n",
            "_________________________________________________________________\n",
            "conv2d_157 (Conv2D)          (None, 23, 23, 256)       614656    \n",
            "_________________________________________________________________\n",
            "max_pooling2d_98 (MaxPooling (None, 11, 11, 256)       0         \n",
            "_________________________________________________________________\n",
            "batch_normalization_466 (Bat (None, 11, 11, 256)       1024      \n",
            "_________________________________________________________________\n",
            "conv2d_158 (Conv2D)          (None, 9, 9, 384)         885120    \n",
            "_________________________________________________________________\n",
            "conv2d_159 (Conv2D)          (None, 7, 7, 384)         1327488   \n",
            "_________________________________________________________________\n",
            "conv2d_160 (Conv2D)          (None, 5, 5, 256)         884992    \n",
            "_________________________________________________________________\n",
            "max_pooling2d_99 (MaxPooling (None, 2, 2, 256)         0         \n",
            "_________________________________________________________________\n",
            "batch_normalization_467 (Bat (None, 2, 2, 256)         1024      \n",
            "_________________________________________________________________\n",
            "flatten_18 (Flatten)         (None, 1024)              0         \n",
            "_________________________________________________________________\n",
            "dense_57 (Dense)             (None, 4096)              4198400   \n",
            "_________________________________________________________________\n",
            "dropout_53 (Dropout)         (None, 4096)              0         \n",
            "_________________________________________________________________\n",
            "batch_normalization_468 (Bat (None, 4096)              16384     \n",
            "_________________________________________________________________\n",
            "dense_58 (Dense)             (None, 4096)              16781312  \n",
            "_________________________________________________________________\n",
            "dropout_54 (Dropout)         (None, 4096)              0         \n",
            "_________________________________________________________________\n",
            "batch_normalization_469 (Bat (None, 4096)              16384     \n",
            "_________________________________________________________________\n",
            "dense_59 (Dense)             (None, 1000)              4097000   \n",
            "_________________________________________________________________\n",
            "dropout_55 (Dropout)         (None, 1000)              0         \n",
            "_________________________________________________________________\n",
            "batch_normalization_470 (Bat (None, 1000)              4000      \n",
            "_________________________________________________________________\n",
            "dense_60 (Dense)             (None, 120)               120120    \n",
            "=================================================================\n",
            "Total params: 28,983,232\n",
            "Trainable params: 28,963,632\n",
            "Non-trainable params: 19,600\n",
            "_________________________________________________________________\n"
          ],
          "name": "stdout"
        }
      ]
    },
    {
      "cell_type": "code",
      "metadata": {
        "colab": {
          "base_uri": "https://localhost:8080/"
        },
        "id": "i1P5JgKYRKpZ",
        "outputId": "050ce9c2-a2ed-4871-e45e-732e9a507910"
      },
      "source": [
        "history_alexNet_model = model.fit(\r\n",
        "    train_generator,\r\n",
        "    validation_data = validation_generator, \r\n",
        "    verbose=1,\r\n",
        "    callbacks=[checkpoint_cb, early_stopping_cb],\r\n",
        "    epochs = epochs)"
      ],
      "execution_count": null,
      "outputs": [
        {
          "output_type": "stream",
          "text": [
            "Epoch 1/50\n",
            "258/258 [==============================] - 13s 52ms/step - loss: 6.7156 - accuracy: 0.0225 - val_loss: 6.1344 - val_accuracy: 0.0294\n",
            "Epoch 2/50\n",
            "258/258 [==============================] - 12s 45ms/step - loss: 5.9219 - accuracy: 0.0275 - val_loss: 5.4371 - val_accuracy: 0.0437\n",
            "Epoch 3/50\n",
            "258/258 [==============================] - 12s 45ms/step - loss: 5.4017 - accuracy: 0.0361 - val_loss: 5.2086 - val_accuracy: 0.0442\n",
            "Epoch 4/50\n",
            "258/258 [==============================] - 12s 45ms/step - loss: 5.0600 - accuracy: 0.0471 - val_loss: 5.1151 - val_accuracy: 0.0556\n",
            "Epoch 5/50\n",
            "258/258 [==============================] - 12s 45ms/step - loss: 4.8527 - accuracy: 0.0562 - val_loss: 4.9553 - val_accuracy: 0.0620\n",
            "Epoch 6/50\n",
            "258/258 [==============================] - 12s 45ms/step - loss: 4.7022 - accuracy: 0.0609 - val_loss: 4.6116 - val_accuracy: 0.0736\n",
            "Epoch 7/50\n",
            "258/258 [==============================] - 10s 40ms/step - loss: 4.5550 - accuracy: 0.0723 - val_loss: 4.8101 - val_accuracy: 0.0807\n",
            "Epoch 8/50\n",
            "258/258 [==============================] - 10s 40ms/step - loss: 4.4186 - accuracy: 0.0893 - val_loss: 4.7398 - val_accuracy: 0.0892\n",
            "Epoch 9/50\n",
            "258/258 [==============================] - 13s 50ms/step - loss: 4.2669 - accuracy: 0.1095 - val_loss: 4.5438 - val_accuracy: 0.1025\n",
            "Epoch 10/50\n",
            "258/258 [==============================] - 12s 45ms/step - loss: 4.1340 - accuracy: 0.1271 - val_loss: 4.4919 - val_accuracy: 0.0952\n",
            "Epoch 11/50\n",
            "258/258 [==============================] - 10s 40ms/step - loss: 3.9794 - accuracy: 0.1493 - val_loss: 4.6009 - val_accuracy: 0.1210\n",
            "Epoch 12/50\n",
            "258/258 [==============================] - 12s 45ms/step - loss: 3.8110 - accuracy: 0.1722 - val_loss: 4.2862 - val_accuracy: 0.1339\n",
            "Epoch 13/50\n",
            "258/258 [==============================] - 12s 45ms/step - loss: 3.6596 - accuracy: 0.2013 - val_loss: 4.0882 - val_accuracy: 0.1645\n",
            "Epoch 14/50\n",
            "258/258 [==============================] - 11s 44ms/step - loss: 3.5092 - accuracy: 0.2312 - val_loss: 3.9681 - val_accuracy: 0.1842\n",
            "Epoch 15/50\n",
            "258/258 [==============================] - 10s 39ms/step - loss: 3.3055 - accuracy: 0.2672 - val_loss: 4.3065 - val_accuracy: 0.1611\n",
            "Epoch 16/50\n",
            "258/258 [==============================] - 10s 39ms/step - loss: 3.1031 - accuracy: 0.3046 - val_loss: 4.0167 - val_accuracy: 0.1953\n",
            "Epoch 17/50\n",
            "258/258 [==============================] - 10s 39ms/step - loss: 2.8831 - accuracy: 0.3491 - val_loss: 4.1359 - val_accuracy: 0.1929\n",
            "Epoch 18/50\n",
            "258/258 [==============================] - 10s 39ms/step - loss: 2.6646 - accuracy: 0.4057 - val_loss: 4.2619 - val_accuracy: 0.2167\n",
            "Epoch 19/50\n",
            "258/258 [==============================] - 10s 39ms/step - loss: 2.4165 - accuracy: 0.4670 - val_loss: 4.2327 - val_accuracy: 0.2204\n",
            "Epoch 20/50\n",
            "258/258 [==============================] - 10s 39ms/step - loss: 2.1835 - accuracy: 0.5239 - val_loss: 4.4311 - val_accuracy: 0.2119\n",
            "Epoch 21/50\n",
            "258/258 [==============================] - 10s 39ms/step - loss: 1.9617 - accuracy: 0.5842 - val_loss: 4.6621 - val_accuracy: 0.2077\n",
            "Epoch 22/50\n",
            "258/258 [==============================] - 10s 39ms/step - loss: 1.7994 - accuracy: 0.6317 - val_loss: 4.9964 - val_accuracy: 0.2036\n",
            "Epoch 23/50\n",
            "258/258 [==============================] - 10s 39ms/step - loss: 1.5660 - accuracy: 0.6962 - val_loss: 4.9392 - val_accuracy: 0.2153\n",
            "Epoch 24/50\n",
            "258/258 [==============================] - 10s 39ms/step - loss: 1.3865 - accuracy: 0.7481 - val_loss: 5.1556 - val_accuracy: 0.2143\n",
            "Epoch 25/50\n",
            "258/258 [==============================] - 10s 39ms/step - loss: 1.3003 - accuracy: 0.7722 - val_loss: 5.5100 - val_accuracy: 0.2187\n",
            "Epoch 26/50\n",
            "258/258 [==============================] - 10s 39ms/step - loss: 1.2399 - accuracy: 0.7982 - val_loss: 5.4119 - val_accuracy: 0.2121\n",
            "Epoch 27/50\n",
            "258/258 [==============================] - 10s 39ms/step - loss: 1.1447 - accuracy: 0.8235 - val_loss: 5.4614 - val_accuracy: 0.2126\n",
            "Epoch 28/50\n",
            "258/258 [==============================] - 10s 39ms/step - loss: 1.0561 - accuracy: 0.8485 - val_loss: 5.8370 - val_accuracy: 0.2206\n",
            "Epoch 29/50\n",
            "258/258 [==============================] - 10s 39ms/step - loss: 1.0275 - accuracy: 0.8567 - val_loss: 6.0219 - val_accuracy: 0.2182\n",
            "Epoch 30/50\n",
            "258/258 [==============================] - 10s 39ms/step - loss: 0.9761 - accuracy: 0.8728 - val_loss: 5.8839 - val_accuracy: 0.2269\n",
            "Epoch 31/50\n",
            "258/258 [==============================] - 10s 39ms/step - loss: 0.9310 - accuracy: 0.8825 - val_loss: 6.0797 - val_accuracy: 0.2131\n",
            "Epoch 32/50\n",
            "258/258 [==============================] - 10s 39ms/step - loss: 0.9273 - accuracy: 0.8873 - val_loss: 6.1419 - val_accuracy: 0.2153\n",
            "Epoch 33/50\n",
            "258/258 [==============================] - 10s 39ms/step - loss: 0.9790 - accuracy: 0.8774 - val_loss: 6.2442 - val_accuracy: 0.2184\n",
            "Epoch 34/50\n",
            "258/258 [==============================] - 10s 39ms/step - loss: 1.0173 - accuracy: 0.8762 - val_loss: 6.1433 - val_accuracy: 0.2252\n"
          ],
          "name": "stdout"
        }
      ]
    },
    {
      "cell_type": "code",
      "metadata": {
        "id": "vCguFWd9RSSO"
      },
      "source": [
        "import pandas as pd\r\n",
        "def show_history(history):\r\n",
        "  pd.DataFrame(history.history).plot(figsize=(8, 5))\r\n",
        "  plt.grid(True)\r\n",
        "  plt.tight_layout()\r\n",
        "  plt.show()\r\n",
        "  return"
      ],
      "execution_count": null,
      "outputs": []
    },
    {
      "cell_type": "code",
      "metadata": {
        "colab": {
          "base_uri": "https://localhost:8080/",
          "height": 369
        },
        "id": "PLpluaeaRjRJ",
        "outputId": "3115bfd4-9d38-4059-d3ac-8b42e8368b7e"
      },
      "source": [
        "show_history(history_alexNet_model)"
      ],
      "execution_count": null,
      "outputs": [
        {
          "output_type": "display_data",
          "data": {
            "image/png": "[encoded data removed]",
            "text/plain": [
              "<Figure size 576x360 with 1 Axes>"
            ]
          },
          "metadata": {
            "tags": [],
            "needs_background": "light"
          }
        }
      ]
    },
    {
      "cell_type": "markdown",
      "metadata": {
        "id": "L8roC_gnRn9G"
      },
      "source": [
        "# **Xception**"
      ]
    },
    {
      "cell_type": "code",
      "metadata": {
        "id": "llZZWHuNRht3"
      },
      "source": [
        "epochs = 10\r\n",
        "input_size = (299, 299, 3)"
      ],
      "execution_count": null,
      "outputs": []
    },
    {
      "cell_type": "code",
      "metadata": {
        "colab": {
          "base_uri": "https://localhost:8080/"
        },
        "id": "rYDY4nOTRm5o",
        "outputId": "18072f7e-db4f-4a79-d76b-7ac7ac142845"
      },
      "source": [
        "AUTOTUNE = tf.data.experimental.AUTOTUNE\r\n",
        "train_generator = tf.keras.preprocessing.image_dataset_from_directory(\r\n",
        "    address,\r\n",
        "    validation_split=0.2,\r\n",
        "    seed=123,\r\n",
        "    shuffle=True,\r\n",
        "    image_size=(input_size[0], input_size[1]),\r\n",
        "    batch_size=n_batch,\r\n",
        "    label_mode='categorical',\r\n",
        "    subset='training') # set as training data\r\n",
        "\r\n",
        "validation_generator = tf.keras.preprocessing.image_dataset_from_directory(\r\n",
        "    address, # same directory as training data\r\n",
        "    image_size=(input_size[0], input_size[1]),\r\n",
        "    batch_size=n_batch,\r\n",
        "    seed=123,\r\n",
        "    shuffle=True,\r\n",
        "    validation_split=0.2,\r\n",
        "    label_mode='categorical',\r\n",
        "    subset='validation') # set as validation data\r\n",
        "train_generator = train_generator.map(preprocess)\r\n",
        "validation_generator = validation_generator.map(preprocess)\r\n",
        "train_generator = train_generator.cache().shuffle(21000).prefetch(buffer_size=AUTOTUNE)\r\n",
        "validation_generator = validation_generator.cache().prefetch(buffer_size=AUTOTUNE)"
      ],
      "execution_count": null,
      "outputs": [
        {
          "output_type": "stream",
          "text": [
            "Found 20580 files belonging to 120 classes.\n",
            "Using 16464 files for training.\n",
            "Found 20580 files belonging to 120 classes.\n",
            "Using 4116 files for validation.\n"
          ],
          "name": "stdout"
        }
      ]
    },
    {
      "cell_type": "code",
      "metadata": {
        "id": "hVLEJMjfUiQh"
      },
      "source": [
        "from keras.models import Model\r\n",
        "from keras import layers\r\n",
        "from keras.layers import Dense, Input, BatchNormalization, Activation\r\n",
        "from keras.layers import Conv2D, SeparableConv2D, MaxPooling2D, GlobalAveragePooling2D, GlobalMaxPooling2D\r\n",
        "from keras.utils.data_utils import get_file\r\n",
        "\r\n",
        "def Xception(input_shape):\r\n",
        "  WEIGHTS_PATH = 'https://github.com/fchollet/deep-learning-models/releases/download/v0.4/xception_weights_tf_dim_ordering_tf_kernels_notop.h5'\r\n",
        "  img_input =  keras.Input(input_shape)\r\n",
        "  # Block 1\r\n",
        "  x = Conv2D(32,(3,3),strides=(2,2),use_bias=False)(img_input)\r\n",
        "  x = BatchNormalization()(x)\r\n",
        "  x = Activation('relu')(x)\r\n",
        "  x = Conv2D(64, (3, 3), use_bias=False)(x)\r\n",
        "  x = BatchNormalization()(x)\r\n",
        "  x = Activation('relu')(x)\r\n",
        "\r\n",
        "  residual = Conv2D(128, (1, 1), strides=(2, 2), padding='same', use_bias=False)(x)\r\n",
        "  residual = BatchNormalization()(residual)\r\n",
        "\r\n",
        "  # Block 2\r\n",
        "  x = SeparableConv2D(128, (3, 3), padding='same', use_bias=False)(x)\r\n",
        "  x = BatchNormalization()(x)\r\n",
        "  x = Activation('relu')(x)\r\n",
        "  x = SeparableConv2D(128, (3, 3), padding='same', use_bias=False)(x)\r\n",
        "  x = BatchNormalization()(x)\r\n",
        "\r\n",
        "  # Block 2 Pool\r\n",
        "  x = MaxPooling2D((3, 3), strides=(2, 2), padding='same')(x)\r\n",
        "  x = layers.add([x, residual])\r\n",
        "\r\n",
        "  residual = Conv2D(256, (1, 1), strides=(2, 2), padding='same', use_bias=False)(x)\r\n",
        "  residual = BatchNormalization()(residual)\r\n",
        "\r\n",
        "  # Block 3\r\n",
        "  x = Activation('relu')(x)\r\n",
        "  x = SeparableConv2D(256, (3, 3), padding='same', use_bias=False)(x)\r\n",
        "  x = BatchNormalization()(x)\r\n",
        "  x = Activation('relu')(x)\r\n",
        "  x = SeparableConv2D(256, (3, 3), padding='same', use_bias=False)(x)\r\n",
        "  x = BatchNormalization()(x)\r\n",
        "\r\n",
        "  # Block 3 Pool\r\n",
        "  x = MaxPooling2D((3, 3), strides=(2, 2), padding='same')(x)\r\n",
        "  x = layers.add([x, residual])\r\n",
        "\r\n",
        "  residual = Conv2D(728, (1, 1), strides=(2, 2), padding='same', use_bias=False)(x)\r\n",
        "  residual = BatchNormalization()(residual)\r\n",
        "\r\n",
        "  # Block 4\r\n",
        "  x = Activation('relu')(x)\r\n",
        "  x = SeparableConv2D(728, (3, 3), padding='same', use_bias=False)(x)\r\n",
        "  x = BatchNormalization()(x)\r\n",
        "  x = Activation('relu')(x)\r\n",
        "  x = SeparableConv2D(728, (3, 3), padding='same', use_bias=False)(x)\r\n",
        "  x = BatchNormalization()(x)\r\n",
        "\r\n",
        "  x = MaxPooling2D((3, 3), strides=(2, 2), padding='same')(x)\r\n",
        "  x = layers.add([x, residual])\r\n",
        "\r\n",
        "  # Block 5 - 12\r\n",
        "  for i in range(8):\r\n",
        "    residual = x\r\n",
        "\r\n",
        "    x = Activation('relu')(x)\r\n",
        "    x = SeparableConv2D(728, (3, 3), padding='same', use_bias=False)(x)\r\n",
        "    x = BatchNormalization()(x)\r\n",
        "    x = Activation('relu')(x)\r\n",
        "    x = SeparableConv2D(728, (3, 3), padding='same', use_bias=False)(x)\r\n",
        "    x = BatchNormalization()(x)\r\n",
        "    x = Activation('relu')(x)\r\n",
        "    x = SeparableConv2D(728, (3, 3), padding='same', use_bias=False)(x)\r\n",
        "    x = BatchNormalization()(x)\r\n",
        "\r\n",
        "    x = layers.add([x, residual])\r\n",
        "\r\n",
        "  residual = Conv2D(1024, (1, 1), strides=(2, 2), padding='same', use_bias=False)(x)\r\n",
        "  residual = BatchNormalization()(residual)\r\n",
        "\r\n",
        "  # Block 13\r\n",
        "  x = Activation('relu')(x)\r\n",
        "  x = SeparableConv2D(728, (3, 3), padding='same', use_bias=False)(x)\r\n",
        "  x = BatchNormalization()(x)\r\n",
        "  x = Activation('relu')(x)\r\n",
        "  x = SeparableConv2D(1024, (3, 3), padding='same', use_bias=False)(x)\r\n",
        "  x = BatchNormalization()(x)\r\n",
        "\r\n",
        "  # Block 13 Pool\r\n",
        "  x = MaxPooling2D((3, 3), strides=(2, 2), padding='same')(x)\r\n",
        "  x = layers.add([x, residual])\r\n",
        "\r\n",
        "  # Block 14\r\n",
        "  x = SeparableConv2D(1536, (3, 3), padding='same', use_bias=False)(x)\r\n",
        "  x = BatchNormalization()(x)\r\n",
        "  x = Activation('relu')(x)\r\n",
        "\r\n",
        "  # Block 14 part 2\r\n",
        "  x = SeparableConv2D(2048, (3, 3), padding='same', use_bias=False)(x)\r\n",
        "  x = BatchNormalization()(x)\r\n",
        "  x = Activation('relu')(x)\r\n",
        "\r\n",
        "  model = Model(img_input, x, name='xception')\r\n",
        "  weights_path = get_file('xception_weights_tf_dim_ordering_tf_kernels_notop.h5', WEIGHTS_PATH, cache_subdir='models')\r\n",
        "  model.load_weights(weights_path)\r\n",
        "  \r\n",
        "  return model"
      ],
      "execution_count": null,
      "outputs": []
    },
    {
      "cell_type": "code",
      "metadata": {
        "id": "7jnpwaSeYKju"
      },
      "source": [
        "checkpoint_cb = keras.callbacks.ModelCheckpoint(abspath + '/model/xception_model.h5',save_best_only=True)\r\n",
        "early_stopping_cb = keras.callbacks.EarlyStopping(patience=5,restore_best_weights=True)"
      ],
      "execution_count": null,
      "outputs": []
    },
    {
      "cell_type": "code",
      "metadata": {
        "id": "_U_YAqoBVRHg"
      },
      "source": [
        "from keras.optimizers import SGD\r\n",
        "def get_xception(ds_train,ds_val):\r\n",
        "    img_size=(299,299)\r\n",
        "    inputs=img_size + (3,)\r\n",
        "    base_model = Xception(input_shape=inputs)\r\n",
        "    base_model.trainable = False\r\n",
        "\r\n",
        "    x = base_model.output\r\n",
        "    x = GlobalAveragePooling2D()(x)\r\n",
        "    x = Dropout(0.2)(x)\r\n",
        "\r\n",
        "    predictions = Dense(120, activation='softmax')(x)\r\n",
        "\r\n",
        "    model = Model(inputs=base_model.input, outputs=predictions)\r\n",
        "\r\n",
        "\r\n",
        "    for layer in base_model.layers:\r\n",
        "        layer.trainable = False\r\n",
        "\r\n",
        "    model.compile(optimizer='rmsprop', loss='categorical_crossentropy', metrics=['accuracy'])\r\n",
        "    model.summary()\r\n",
        "    plot_model(model, to_file='xception_model.png', show_shapes=True, show_layer_names=True)\r\n",
        "    for i, layer in enumerate(model.layers):\r\n",
        "        if i < 81:\r\n",
        "            layer.trainable = False\r\n",
        "        else:\r\n",
        "            layer.trainable = True\r\n",
        "\r\n",
        "    history = model.fit(ds_train, batch_size=64, epochs=10, validation_data=ds_val,verbose=1,callbacks=[checkpoint_cb, early_stopping_cb])\r\n",
        "    return history"
      ],
      "execution_count": null,
      "outputs": []
    },
    {
      "cell_type": "code",
      "metadata": {
        "colab": {
          "base_uri": "https://localhost:8080/"
        },
        "id": "5vpem2T7fWUQ",
        "outputId": "4f63faf4-1f77-4b6c-ba77-5819011178db"
      },
      "source": [
        "xception_model_history = get_xception(train_generator,validation_generator)"
      ],
      "execution_count": null,
      "outputs": [
        {
          "output_type": "stream",
          "text": [
            "Model: \"functional_13\"\n",
            "__________________________________________________________________________________________________\n",
            "Layer (type)                    Output Shape         Param #     Connected to                     \n",
            "==================================================================================================\n",
            "input_30 (InputLayer)           [(None, 299, 299, 3) 0                                            \n",
            "__________________________________________________________________________________________________\n",
            "conv2d_161 (Conv2D)             (None, 149, 149, 32) 864         input_30[0][0]                   \n",
            "__________________________________________________________________________________________________\n",
            "batch_normalization_471 (BatchN (None, 149, 149, 32) 128         conv2d_161[0][0]                 \n",
            "__________________________________________________________________________________________________\n",
            "activation_358 (Activation)     (None, 149, 149, 32) 0           batch_normalization_471[0][0]    \n",
            "__________________________________________________________________________________________________\n",
            "conv2d_162 (Conv2D)             (None, 147, 147, 64) 18432       activation_358[0][0]             \n",
            "__________________________________________________________________________________________________\n",
            "batch_normalization_472 (BatchN (None, 147, 147, 64) 256         conv2d_162[0][0]                 \n",
            "__________________________________________________________________________________________________\n",
            "activation_359 (Activation)     (None, 147, 147, 64) 0           batch_normalization_472[0][0]    \n",
            "__________________________________________________________________________________________________\n",
            "separable_conv2d_340 (Separable (None, 147, 147, 128 8768        activation_359[0][0]             \n",
            "__________________________________________________________________________________________________\n",
            "batch_normalization_474 (BatchN (None, 147, 147, 128 512         separable_conv2d_340[0][0]       \n",
            "__________________________________________________________________________________________________\n",
            "activation_360 (Activation)     (None, 147, 147, 128 0           batch_normalization_474[0][0]    \n",
            "__________________________________________________________________________________________________\n",
            "separable_conv2d_341 (Separable (None, 147, 147, 128 17536       activation_360[0][0]             \n",
            "__________________________________________________________________________________________________\n",
            "batch_normalization_475 (BatchN (None, 147, 147, 128 512         separable_conv2d_341[0][0]       \n",
            "__________________________________________________________________________________________________\n",
            "conv2d_163 (Conv2D)             (None, 74, 74, 128)  8192        activation_359[0][0]             \n",
            "__________________________________________________________________________________________________\n",
            "max_pooling2d_100 (MaxPooling2D (None, 74, 74, 128)  0           batch_normalization_475[0][0]    \n",
            "__________________________________________________________________________________________________\n",
            "batch_normalization_473 (BatchN (None, 74, 74, 128)  512         conv2d_163[0][0]                 \n",
            "__________________________________________________________________________________________________\n",
            "add_120 (Add)                   (None, 74, 74, 128)  0           max_pooling2d_100[0][0]          \n",
            "                                                                 batch_normalization_473[0][0]    \n",
            "__________________________________________________________________________________________________\n",
            "activation_361 (Activation)     (None, 74, 74, 128)  0           add_120[0][0]                    \n",
            "__________________________________________________________________________________________________\n",
            "separable_conv2d_342 (Separable (None, 74, 74, 256)  33920       activation_361[0][0]             \n",
            "__________________________________________________________________________________________________\n",
            "batch_normalization_477 (BatchN (None, 74, 74, 256)  1024        separable_conv2d_342[0][0]       \n",
            "__________________________________________________________________________________________________\n",
            "activation_362 (Activation)     (None, 74, 74, 256)  0           batch_normalization_477[0][0]    \n",
            "__________________________________________________________________________________________________\n",
            "separable_conv2d_343 (Separable (None, 74, 74, 256)  67840       activation_362[0][0]             \n",
            "__________________________________________________________________________________________________\n",
            "batch_normalization_478 (BatchN (None, 74, 74, 256)  1024        separable_conv2d_343[0][0]       \n",
            "__________________________________________________________________________________________________\n",
            "conv2d_164 (Conv2D)             (None, 37, 37, 256)  32768       add_120[0][0]                    \n",
            "__________________________________________________________________________________________________\n",
            "max_pooling2d_101 (MaxPooling2D (None, 37, 37, 256)  0           batch_normalization_478[0][0]    \n",
            "__________________________________________________________________________________________________\n",
            "batch_normalization_476 (BatchN (None, 37, 37, 256)  1024        conv2d_164[0][0]                 \n",
            "__________________________________________________________________________________________________\n",
            "add_121 (Add)                   (None, 37, 37, 256)  0           max_pooling2d_101[0][0]          \n",
            "                                                                 batch_normalization_476[0][0]    \n",
            "__________________________________________________________________________________________________\n",
            "activation_363 (Activation)     (None, 37, 37, 256)  0           add_121[0][0]                    \n",
            "__________________________________________________________________________________________________\n",
            "separable_conv2d_344 (Separable (None, 37, 37, 728)  188672      activation_363[0][0]             \n",
            "__________________________________________________________________________________________________\n",
            "batch_normalization_480 (BatchN (None, 37, 37, 728)  2912        separable_conv2d_344[0][0]       \n",
            "__________________________________________________________________________________________________\n",
            "activation_364 (Activation)     (None, 37, 37, 728)  0           batch_normalization_480[0][0]    \n",
            "__________________________________________________________________________________________________\n",
            "separable_conv2d_345 (Separable (None, 37, 37, 728)  536536      activation_364[0][0]             \n",
            "__________________________________________________________________________________________________\n",
            "batch_normalization_481 (BatchN (None, 37, 37, 728)  2912        separable_conv2d_345[0][0]       \n",
            "__________________________________________________________________________________________________\n",
            "conv2d_165 (Conv2D)             (None, 19, 19, 728)  186368      add_121[0][0]                    \n",
            "__________________________________________________________________________________________________\n",
            "max_pooling2d_102 (MaxPooling2D (None, 19, 19, 728)  0           batch_normalization_481[0][0]    \n",
            "__________________________________________________________________________________________________\n",
            "batch_normalization_479 (BatchN (None, 19, 19, 728)  2912        conv2d_165[0][0]                 \n",
            "__________________________________________________________________________________________________\n",
            "add_122 (Add)                   (None, 19, 19, 728)  0           max_pooling2d_102[0][0]          \n",
            "                                                                 batch_normalization_479[0][0]    \n",
            "__________________________________________________________________________________________________\n",
            "activation_365 (Activation)     (None, 19, 19, 728)  0           add_122[0][0]                    \n",
            "__________________________________________________________________________________________________\n",
            "separable_conv2d_346 (Separable (None, 19, 19, 728)  536536      activation_365[0][0]             \n",
            "__________________________________________________________________________________________________\n",
            "batch_normalization_482 (BatchN (None, 19, 19, 728)  2912        separable_conv2d_346[0][0]       \n",
            "__________________________________________________________________________________________________\n",
            "activation_366 (Activation)     (None, 19, 19, 728)  0           batch_normalization_482[0][0]    \n",
            "__________________________________________________________________________________________________\n",
            "separable_conv2d_347 (Separable (None, 19, 19, 728)  536536      activation_366[0][0]             \n",
            "__________________________________________________________________________________________________\n",
            "batch_normalization_483 (BatchN (None, 19, 19, 728)  2912        separable_conv2d_347[0][0]       \n",
            "__________________________________________________________________________________________________\n",
            "activation_367 (Activation)     (None, 19, 19, 728)  0           batch_normalization_483[0][0]    \n",
            "__________________________________________________________________________________________________\n",
            "separable_conv2d_348 (Separable (None, 19, 19, 728)  536536      activation_367[0][0]             \n",
            "__________________________________________________________________________________________________\n",
            "batch_normalization_484 (BatchN (None, 19, 19, 728)  2912        separable_conv2d_348[0][0]       \n",
            "__________________________________________________________________________________________________\n",
            "add_123 (Add)                   (None, 19, 19, 728)  0           batch_normalization_484[0][0]    \n",
            "                                                                 add_122[0][0]                    \n",
            "__________________________________________________________________________________________________\n",
            "activation_368 (Activation)     (None, 19, 19, 728)  0           add_123[0][0]                    \n",
            "__________________________________________________________________________________________________\n",
            "separable_conv2d_349 (Separable (None, 19, 19, 728)  536536      activation_368[0][0]             \n",
            "__________________________________________________________________________________________________\n",
            "batch_normalization_485 (BatchN (None, 19, 19, 728)  2912        separable_conv2d_349[0][0]       \n",
            "__________________________________________________________________________________________________\n",
            "activation_369 (Activation)     (None, 19, 19, 728)  0           batch_normalization_485[0][0]    \n",
            "__________________________________________________________________________________________________\n",
            "separable_conv2d_350 (Separable (None, 19, 19, 728)  536536      activation_369[0][0]             \n",
            "__________________________________________________________________________________________________\n",
            "batch_normalization_486 (BatchN (None, 19, 19, 728)  2912        separable_conv2d_350[0][0]       \n",
            "__________________________________________________________________________________________________\n",
            "activation_370 (Activation)     (None, 19, 19, 728)  0           batch_normalization_486[0][0]    \n",
            "__________________________________________________________________________________________________\n",
            "separable_conv2d_351 (Separable (None, 19, 19, 728)  536536      activation_370[0][0]             \n",
            "__________________________________________________________________________________________________\n",
            "batch_normalization_487 (BatchN (None, 19, 19, 728)  2912        separable_conv2d_351[0][0]       \n",
            "__________________________________________________________________________________________________\n",
            "add_124 (Add)                   (None, 19, 19, 728)  0           batch_normalization_487[0][0]    \n",
            "                                                                 add_123[0][0]                    \n",
            "__________________________________________________________________________________________________\n",
            "activation_371 (Activation)     (None, 19, 19, 728)  0           add_124[0][0]                    \n",
            "__________________________________________________________________________________________________\n",
            "separable_conv2d_352 (Separable (None, 19, 19, 728)  536536      activation_371[0][0]             \n",
            "__________________________________________________________________________________________________\n",
            "batch_normalization_488 (BatchN (None, 19, 19, 728)  2912        separable_conv2d_352[0][0]       \n",
            "__________________________________________________________________________________________________\n",
            "activation_372 (Activation)     (None, 19, 19, 728)  0           batch_normalization_488[0][0]    \n",
            "__________________________________________________________________________________________________\n",
            "separable_conv2d_353 (Separable (None, 19, 19, 728)  536536      activation_372[0][0]             \n",
            "__________________________________________________________________________________________________\n",
            "batch_normalization_489 (BatchN (None, 19, 19, 728)  2912        separable_conv2d_353[0][0]       \n",
            "__________________________________________________________________________________________________\n",
            "activation_373 (Activation)     (None, 19, 19, 728)  0           batch_normalization_489[0][0]    \n",
            "__________________________________________________________________________________________________\n",
            "separable_conv2d_354 (Separable (None, 19, 19, 728)  536536      activation_373[0][0]             \n",
            "__________________________________________________________________________________________________\n",
            "batch_normalization_490 (BatchN (None, 19, 19, 728)  2912        separable_conv2d_354[0][0]       \n",
            "__________________________________________________________________________________________________\n",
            "add_125 (Add)                   (None, 19, 19, 728)  0           batch_normalization_490[0][0]    \n",
            "                                                                 add_124[0][0]                    \n",
            "__________________________________________________________________________________________________\n",
            "activation_374 (Activation)     (None, 19, 19, 728)  0           add_125[0][0]                    \n",
            "__________________________________________________________________________________________________\n",
            "separable_conv2d_355 (Separable (None, 19, 19, 728)  536536      activation_374[0][0]             \n",
            "__________________________________________________________________________________________________\n",
            "batch_normalization_491 (BatchN (None, 19, 19, 728)  2912        separable_conv2d_355[0][0]       \n",
            "__________________________________________________________________________________________________\n",
            "activation_375 (Activation)     (None, 19, 19, 728)  0           batch_normalization_491[0][0]    \n",
            "__________________________________________________________________________________________________\n",
            "separable_conv2d_356 (Separable (None, 19, 19, 728)  536536      activation_375[0][0]             \n",
            "__________________________________________________________________________________________________\n",
            "batch_normalization_492 (BatchN (None, 19, 19, 728)  2912        separable_conv2d_356[0][0]       \n",
            "__________________________________________________________________________________________________\n",
            "activation_376 (Activation)     (None, 19, 19, 728)  0           batch_normalization_492[0][0]    \n",
            "__________________________________________________________________________________________________\n",
            "separable_conv2d_357 (Separable (None, 19, 19, 728)  536536      activation_376[0][0]             \n",
            "__________________________________________________________________________________________________\n",
            "batch_normalization_493 (BatchN (None, 19, 19, 728)  2912        separable_conv2d_357[0][0]       \n",
            "__________________________________________________________________________________________________\n",
            "add_126 (Add)                   (None, 19, 19, 728)  0           batch_normalization_493[0][0]    \n",
            "                                                                 add_125[0][0]                    \n",
            "__________________________________________________________________________________________________\n",
            "activation_377 (Activation)     (None, 19, 19, 728)  0           add_126[0][0]                    \n",
            "__________________________________________________________________________________________________\n",
            "separable_conv2d_358 (Separable (None, 19, 19, 728)  536536      activation_377[0][0]             \n",
            "__________________________________________________________________________________________________\n",
            "batch_normalization_494 (BatchN (None, 19, 19, 728)  2912        separable_conv2d_358[0][0]       \n",
            "__________________________________________________________________________________________________\n",
            "activation_378 (Activation)     (None, 19, 19, 728)  0           batch_normalization_494[0][0]    \n",
            "__________________________________________________________________________________________________\n",
            "separable_conv2d_359 (Separable (None, 19, 19, 728)  536536      activation_378[0][0]             \n",
            "__________________________________________________________________________________________________\n",
            "batch_normalization_495 (BatchN (None, 19, 19, 728)  2912        separable_conv2d_359[0][0]       \n",
            "__________________________________________________________________________________________________\n",
            "activation_379 (Activation)     (None, 19, 19, 728)  0           batch_normalization_495[0][0]    \n",
            "__________________________________________________________________________________________________\n",
            "separable_conv2d_360 (Separable (None, 19, 19, 728)  536536      activation_379[0][0]             \n",
            "__________________________________________________________________________________________________\n",
            "batch_normalization_496 (BatchN (None, 19, 19, 728)  2912        separable_conv2d_360[0][0]       \n",
            "__________________________________________________________________________________________________\n",
            "add_127 (Add)                   (None, 19, 19, 728)  0           batch_normalization_496[0][0]    \n",
            "                                                                 add_126[0][0]                    \n",
            "__________________________________________________________________________________________________\n",
            "activation_380 (Activation)     (None, 19, 19, 728)  0           add_127[0][0]                    \n",
            "__________________________________________________________________________________________________\n",
            "separable_conv2d_361 (Separable (None, 19, 19, 728)  536536      activation_380[0][0]             \n",
            "__________________________________________________________________________________________________\n",
            "batch_normalization_497 (BatchN (None, 19, 19, 728)  2912        separable_conv2d_361[0][0]       \n",
            "__________________________________________________________________________________________________\n",
            "activation_381 (Activation)     (None, 19, 19, 728)  0           batch_normalization_497[0][0]    \n",
            "__________________________________________________________________________________________________\n",
            "separable_conv2d_362 (Separable (None, 19, 19, 728)  536536      activation_381[0][0]             \n",
            "__________________________________________________________________________________________________\n",
            "batch_normalization_498 (BatchN (None, 19, 19, 728)  2912        separable_conv2d_362[0][0]       \n",
            "__________________________________________________________________________________________________\n",
            "activation_382 (Activation)     (None, 19, 19, 728)  0           batch_normalization_498[0][0]    \n",
            "__________________________________________________________________________________________________\n",
            "separable_conv2d_363 (Separable (None, 19, 19, 728)  536536      activation_382[0][0]             \n",
            "__________________________________________________________________________________________________\n",
            "batch_normalization_499 (BatchN (None, 19, 19, 728)  2912        separable_conv2d_363[0][0]       \n",
            "__________________________________________________________________________________________________\n",
            "add_128 (Add)                   (None, 19, 19, 728)  0           batch_normalization_499[0][0]    \n",
            "                                                                 add_127[0][0]                    \n",
            "__________________________________________________________________________________________________\n",
            "activation_383 (Activation)     (None, 19, 19, 728)  0           add_128[0][0]                    \n",
            "__________________________________________________________________________________________________\n",
            "separable_conv2d_364 (Separable (None, 19, 19, 728)  536536      activation_383[0][0]             \n",
            "__________________________________________________________________________________________________\n",
            "batch_normalization_500 (BatchN (None, 19, 19, 728)  2912        separable_conv2d_364[0][0]       \n",
            "__________________________________________________________________________________________________\n",
            "activation_384 (Activation)     (None, 19, 19, 728)  0           batch_normalization_500[0][0]    \n",
            "__________________________________________________________________________________________________\n",
            "separable_conv2d_365 (Separable (None, 19, 19, 728)  536536      activation_384[0][0]             \n",
            "__________________________________________________________________________________________________\n",
            "batch_normalization_501 (BatchN (None, 19, 19, 728)  2912        separable_conv2d_365[0][0]       \n",
            "__________________________________________________________________________________________________\n",
            "activation_385 (Activation)     (None, 19, 19, 728)  0           batch_normalization_501[0][0]    \n",
            "__________________________________________________________________________________________________\n",
            "separable_conv2d_366 (Separable (None, 19, 19, 728)  536536      activation_385[0][0]             \n",
            "__________________________________________________________________________________________________\n",
            "batch_normalization_502 (BatchN (None, 19, 19, 728)  2912        separable_conv2d_366[0][0]       \n",
            "__________________________________________________________________________________________________\n",
            "add_129 (Add)                   (None, 19, 19, 728)  0           batch_normalization_502[0][0]    \n",
            "                                                                 add_128[0][0]                    \n",
            "__________________________________________________________________________________________________\n",
            "activation_386 (Activation)     (None, 19, 19, 728)  0           add_129[0][0]                    \n",
            "__________________________________________________________________________________________________\n",
            "separable_conv2d_367 (Separable (None, 19, 19, 728)  536536      activation_386[0][0]             \n",
            "__________________________________________________________________________________________________\n",
            "batch_normalization_503 (BatchN (None, 19, 19, 728)  2912        separable_conv2d_367[0][0]       \n",
            "__________________________________________________________________________________________________\n",
            "activation_387 (Activation)     (None, 19, 19, 728)  0           batch_normalization_503[0][0]    \n",
            "__________________________________________________________________________________________________\n",
            "separable_conv2d_368 (Separable (None, 19, 19, 728)  536536      activation_387[0][0]             \n",
            "__________________________________________________________________________________________________\n",
            "batch_normalization_504 (BatchN (None, 19, 19, 728)  2912        separable_conv2d_368[0][0]       \n",
            "__________________________________________________________________________________________________\n",
            "activation_388 (Activation)     (None, 19, 19, 728)  0           batch_normalization_504[0][0]    \n",
            "__________________________________________________________________________________________________\n",
            "separable_conv2d_369 (Separable (None, 19, 19, 728)  536536      activation_388[0][0]             \n",
            "__________________________________________________________________________________________________\n",
            "batch_normalization_505 (BatchN (None, 19, 19, 728)  2912        separable_conv2d_369[0][0]       \n",
            "__________________________________________________________________________________________________\n",
            "add_130 (Add)                   (None, 19, 19, 728)  0           batch_normalization_505[0][0]    \n",
            "                                                                 add_129[0][0]                    \n",
            "__________________________________________________________________________________________________\n",
            "activation_389 (Activation)     (None, 19, 19, 728)  0           add_130[0][0]                    \n",
            "__________________________________________________________________________________________________\n",
            "separable_conv2d_370 (Separable (None, 19, 19, 728)  536536      activation_389[0][0]             \n",
            "__________________________________________________________________________________________________\n",
            "batch_normalization_507 (BatchN (None, 19, 19, 728)  2912        separable_conv2d_370[0][0]       \n",
            "__________________________________________________________________________________________________\n",
            "activation_390 (Activation)     (None, 19, 19, 728)  0           batch_normalization_507[0][0]    \n",
            "__________________________________________________________________________________________________\n",
            "separable_conv2d_371 (Separable (None, 19, 19, 1024) 752024      activation_390[0][0]             \n",
            "__________________________________________________________________________________________________\n",
            "batch_normalization_508 (BatchN (None, 19, 19, 1024) 4096        separable_conv2d_371[0][0]       \n",
            "__________________________________________________________________________________________________\n",
            "conv2d_166 (Conv2D)             (None, 10, 10, 1024) 745472      add_130[0][0]                    \n",
            "__________________________________________________________________________________________________\n",
            "max_pooling2d_103 (MaxPooling2D (None, 10, 10, 1024) 0           batch_normalization_508[0][0]    \n",
            "__________________________________________________________________________________________________\n",
            "batch_normalization_506 (BatchN (None, 10, 10, 1024) 4096        conv2d_166[0][0]                 \n",
            "__________________________________________________________________________________________________\n",
            "add_131 (Add)                   (None, 10, 10, 1024) 0           max_pooling2d_103[0][0]          \n",
            "                                                                 batch_normalization_506[0][0]    \n",
            "__________________________________________________________________________________________________\n",
            "separable_conv2d_372 (Separable (None, 10, 10, 1536) 1582080     add_131[0][0]                    \n",
            "__________________________________________________________________________________________________\n",
            "batch_normalization_509 (BatchN (None, 10, 10, 1536) 6144        separable_conv2d_372[0][0]       \n",
            "__________________________________________________________________________________________________\n",
            "activation_391 (Activation)     (None, 10, 10, 1536) 0           batch_normalization_509[0][0]    \n",
            "__________________________________________________________________________________________________\n",
            "separable_conv2d_373 (Separable (None, 10, 10, 2048) 3159552     activation_391[0][0]             \n",
            "__________________________________________________________________________________________________\n",
            "batch_normalization_510 (BatchN (None, 10, 10, 2048) 8192        separable_conv2d_373[0][0]       \n",
            "__________________________________________________________________________________________________\n",
            "activation_392 (Activation)     (None, 10, 10, 2048) 0           batch_normalization_510[0][0]    \n",
            "__________________________________________________________________________________________________\n",
            "global_average_pooling2d_6 (Glo (None, 2048)         0           activation_392[0][0]             \n",
            "__________________________________________________________________________________________________\n",
            "dropout_56 (Dropout)            (None, 2048)         0           global_average_pooling2d_6[0][0] \n",
            "__________________________________________________________________________________________________\n",
            "dense_61 (Dense)                (None, 120)          245880      dropout_56[0][0]                 \n",
            "==================================================================================================\n",
            "Total params: 21,107,360\n",
            "Trainable params: 245,880\n",
            "Non-trainable params: 20,861,480\n",
            "__________________________________________________________________________________________________\n",
            "Epoch 1/10\n",
            "258/258 [==============================] - 89s 344ms/step - loss: 0.9123 - accuracy: 0.8373 - val_loss: 0.2942 - val_accuracy: 0.9113\n",
            "Epoch 2/10\n",
            "258/258 [==============================] - 87s 338ms/step - loss: 0.2691 - accuracy: 0.9163 - val_loss: 0.2634 - val_accuracy: 0.9108\n",
            "Epoch 3/10\n",
            "258/258 [==============================] - 86s 332ms/step - loss: 0.2342 - accuracy: 0.9268 - val_loss: 0.2552 - val_accuracy: 0.9169\n",
            "Epoch 4/10\n",
            "258/258 [==============================] - 84s 327ms/step - loss: 0.2198 - accuracy: 0.9288 - val_loss: 0.2622 - val_accuracy: 0.9118\n",
            "Epoch 5/10\n",
            "258/258 [==============================] - 84s 327ms/step - loss: 0.2071 - accuracy: 0.9331 - val_loss: 0.2552 - val_accuracy: 0.9138\n",
            "Epoch 6/10\n",
            "258/258 [==============================] - 84s 327ms/step - loss: 0.1991 - accuracy: 0.9383 - val_loss: 0.2631 - val_accuracy: 0.9172\n",
            "Epoch 7/10\n",
            "258/258 [==============================] - 84s 327ms/step - loss: 0.1901 - accuracy: 0.9419 - val_loss: 0.2718 - val_accuracy: 0.9111\n",
            "Epoch 8/10\n",
            "258/258 [==============================] - 84s 327ms/step - loss: 0.1834 - accuracy: 0.9426 - val_loss: 0.2739 - val_accuracy: 0.9082\n"
          ],
          "name": "stdout"
        }
      ]
    },
    {
      "cell_type": "code",
      "metadata": {
        "colab": {
          "base_uri": "https://localhost:8080/",
          "height": 369
        },
        "id": "zUv2N4nEffMe",
        "outputId": "b36fe166-e63c-4460-efd8-3845defa5c67"
      },
      "source": [
        "show_history(xception_model_history)"
      ],
      "execution_count": null,
      "outputs": [
        {
          "output_type": "display_data",
          "data": {
            "image/png": "[encoded data removed]",
            "text/plain": [
              "<Figure size 576x360 with 1 Axes>"
            ]
          },
          "metadata": {
            "tags": [],
            "needs_background": "light"
          }
        }
      ]
    },
    {
      "cell_type": "code",
      "metadata": {
        "id": "YWi_8xVjxIjO"
      },
      "source": [
        ""
      ],
      "execution_count": null,
      "outputs": []
    }
  ]
}